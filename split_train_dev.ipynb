{
 "cells": [
  {
   "cell_type": "code",
   "execution_count": 1,
   "metadata": {
    "ExecuteTime": {
     "end_time": "2019-04-06T09:07:32.166553Z",
     "start_time": "2019-04-06T09:07:31.866361Z"
    }
   },
   "outputs": [],
   "source": [
    "import numpy as np\n",
    "import pandas as pd"
   ]
  },
  {
   "cell_type": "code",
   "execution_count": 14,
   "metadata": {
    "ExecuteTime": {
     "end_time": "2019-04-06T11:57:47.824270Z",
     "start_time": "2019-04-06T11:57:47.818288Z"
    }
   },
   "outputs": [],
   "source": [
    "def to_csv(data,label,filename):\n",
    "    with open(filename,'w',encoding='utf-8') as f:\n",
    "        for i in range(len(data)):\n",
    "            f.write(str(label[i])+\"+++$+++\"+data[i]+\"\\n\")"
   ]
  },
  {
   "cell_type": "code",
   "execution_count": 15,
   "metadata": {
    "ExecuteTime": {
     "end_time": "2019-04-06T11:57:49.514803Z",
     "start_time": "2019-04-06T11:57:49.507714Z"
    }
   },
   "outputs": [],
   "source": [
    "def split_train_dev(filename):\n",
    "    data=open(filename,'r',encoding='utf-8').readlines()\n",
    "    x_text=[]\n",
    "    labels=[]\n",
    "    for t in data:\n",
    "        sp=t.split('+++$+++')\n",
    "        labels.append(int(sp[0].strip()))\n",
    "        x_text.append(sp[1].strip())\n",
    "    size=len(labels)\n",
    "    dev_size=int(size*0.1)\n",
    "    dev_data=x_text[:dev_size]\n",
    "    dev_label=labels[:dev_size]\n",
    "    \n",
    "    train_data=x_text[dev_size:]\n",
    "    train_label=labels[dev_size:]\n",
    "    \n",
    "    to_csv(train_data,train_label,'./data/train.csv')\n",
    "    to_csv(dev_data,dev_label,'./data/dev.csv')\n",
    "\n",
    "#     to_csv(train_data,train_label,'./data/train.csv')\n",
    "#     to_csv(dev_data,dev_label,'./data/dev_csv')"
   ]
  },
  {
   "cell_type": "code",
   "execution_count": 16,
   "metadata": {
    "ExecuteTime": {
     "end_time": "2019-04-06T11:57:50.486729Z",
     "start_time": "2019-04-06T11:57:50.136165Z"
    }
   },
   "outputs": [],
   "source": [
    "split_train_dev('./data/training_label.csv')"
   ]
  },
  {
   "cell_type": "code",
   "execution_count": null,
   "metadata": {},
   "outputs": [],
   "source": []
  }
 ],
 "metadata": {
  "kernelspec": {
   "display_name": "Python 3",
   "language": "python",
   "name": "python3"
  },
  "language_info": {
   "codemirror_mode": {
    "name": "ipython",
    "version": 3
   },
   "file_extension": ".py",
   "mimetype": "text/x-python",
   "name": "python",
   "nbconvert_exporter": "python",
   "pygments_lexer": "ipython3",
   "version": "3.6.8"
  }
 },
 "nbformat": 4,
 "nbformat_minor": 2
}
